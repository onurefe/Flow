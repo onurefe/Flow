{
 "cells": [
  {
   "cell_type": "code",
   "execution_count": 1,
   "id": "mature-million",
   "metadata": {},
   "outputs": [],
   "source": [
    "import obspy\n",
    "import os\n",
    "import numpy as np\n",
    "import matplotlib.pyplot as plt\n",
    "from pathlib import Path"
   ]
  },
  {
   "cell_type": "code",
   "execution_count": 2,
   "id": "african-bedroom",
   "metadata": {},
   "outputs": [],
   "source": [
    "def sac_to_mseed(rootdir, outdir):\n",
    "    \n",
    "\n",
    "    st = obspy.Stream()\n",
    "    for subdir, dirs, files in os.walk(rootdir):\n",
    "        for file in files:\n",
    "            path = os.path.join(subdir, file)\n",
    "            st += obspy.read(path)\n",
    "    st.sort(['starttime'])\n",
    "    p = Path(outdir)\n",
    "    p.mkdir(exist_ok=True)\n",
    "    st.merge(method=0, fill_value='interpolate')\n",
    "    for s in st:\n",
    "        s_t = str(s.stats['starttime'])\n",
    "        e_t = str(s.stats['endtime'])\n",
    "        s_t = string_op(s_t)\n",
    "        e_t = string_op(e_t)\n",
    "        manip(s)\n",
    "        ch = s.stats.channel\n",
    "        station = s.stats.station\n",
    "        network = s.stats.network\n",
    "        fname = network +'.'+ station +'..'+ ch + '__' + s_t + '__'+ e_t + '.mseed'  \n",
    "        print(fname)\n",
    "        op = outdir + '/' + station\n",
    "        opp = Path(op)\n",
    "        opp.mkdir(exist_ok=True)\n",
    "        s.write(op+'/'+fname, format='MSEED')"
   ]
  },
  {
   "cell_type": "code",
   "execution_count": 3,
   "id": "turned-monster",
   "metadata": {},
   "outputs": [],
   "source": [
    "def string_op(s_t):\n",
    "\n",
    "    s_t = s_t.replace('-', '')\n",
    "    s_t = s_t.replace(':', '')\n",
    "    s_t = s_t.replace('.','')\n",
    "    return s_t"
   ]
  },
  {
   "cell_type": "code",
   "execution_count": 4,
   "id": "creative-johnson",
   "metadata": {},
   "outputs": [],
   "source": [
    "def manip(st):\n",
    "    st.stats.network = 'KO'\n",
    "    if st.stats.channel == 'e':\n",
    "        st.stats.channel = 'HHE'\n",
    "    elif st.stats.channel == 'n':\n",
    "        st.stats.channel = 'HHN'\n",
    "    elif st.stats.channel == 'z':\n",
    "        st.stats.channel = 'HHZ'   \n",
    "    \n",
    "    st.stats.station = st.stats.station.upper()\n"
   ]
  },
  {
   "cell_type": "code",
   "execution_count": 5,
   "id": "english-attachment",
   "metadata": {},
   "outputs": [
    {
     "name": "stdout",
     "output_type": "stream",
     "text": [
      "KO.SLVT..HHE__20191214T110000000000Z__20191214T120000000000Z.mseed\n",
      "KO.SLVT..HHN__20191214T110000000000Z__20191214T120000000000Z.mseed\n",
      "KO.SLVT..HHZ__20191214T110000000000Z__20191214T120000000000Z.mseed\n"
     ]
    }
   ],
   "source": [
    "sac_to_mseed(rootdir='deneme_mseed',outdir='dd1')"
   ]
  },
  {
   "cell_type": "code",
   "execution_count": null,
   "id": "large-moisture",
   "metadata": {},
   "outputs": [],
   "source": [
    "\n",
    "    "
   ]
  },
  {
   "cell_type": "code",
   "execution_count": null,
   "id": "premium-routine",
   "metadata": {},
   "outputs": [],
   "source": []
  },
  {
   "cell_type": "code",
   "execution_count": null,
   "id": "sexual-lightning",
   "metadata": {},
   "outputs": [],
   "source": []
  },
  {
   "cell_type": "code",
   "execution_count": null,
   "id": "viral-philippines",
   "metadata": {},
   "outputs": [],
   "source": []
  },
  {
   "cell_type": "code",
   "execution_count": null,
   "id": "geological-newman",
   "metadata": {},
   "outputs": [],
   "source": []
  },
  {
   "cell_type": "code",
   "execution_count": null,
   "id": "corrected-stocks",
   "metadata": {},
   "outputs": [],
   "source": []
  },
  {
   "cell_type": "code",
   "execution_count": null,
   "id": "incredible-diagnosis",
   "metadata": {},
   "outputs": [],
   "source": []
  }
 ],
 "metadata": {
  "kernelspec": {
   "display_name": "Python 3",
   "language": "python",
   "name": "python3"
  },
  "language_info": {
   "codemirror_mode": {
    "name": "ipython",
    "version": 3
   },
   "file_extension": ".py",
   "mimetype": "text/x-python",
   "name": "python",
   "nbconvert_exporter": "python",
   "pygments_lexer": "ipython3",
   "version": "3.7.10"
  }
 },
 "nbformat": 4,
 "nbformat_minor": 5
}
